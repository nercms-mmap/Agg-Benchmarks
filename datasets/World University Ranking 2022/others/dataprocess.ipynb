{
 "cells": [
  {
   "cell_type": "code",
   "metadata": {
    "ExecuteTime": {
     "end_time": "2024-11-13T06:48:22.899127Z",
     "start_time": "2024-11-13T06:48:22.135708Z"
    }
   },
   "source": [
    "import pandas as pd\n",
    "import sys\n",
    "import pickle\n",
    "import numpy as np\n",
    "import scipy.io\n",
    "import csv"
   ],
   "outputs": [],
   "execution_count": 2
  },
  {
   "cell_type": "markdown",
   "metadata": {},
   "source": "Convert the five initial sorted information into an Excel file"
  },
  {
   "cell_type": "code",
   "execution_count": 5,
   "metadata": {},
   "outputs": [],
   "source": [
    "# Read Excel file\n",
    "excel_file_path = 'USNEWS-samestruct.xlsx'  # Replace with your Excel file path\n",
    "df = pd.read_excel(excel_file_path)\n",
    "\n",
    "# Save data as CSV file\n",
    "csv_file_path = 'USNEWS-samestruct.csv'  # Replace with the CSV file path you wish to save\n",
    "df.to_csv(csv_file_path, index=False)\n"
   ]
  },
  {
   "cell_type": "markdown",
   "metadata": {},
   "source": "Check if there are any errors in the information of the five initial rankings"
  },
  {
   "cell_type": "code",
   "execution_count": 8,
   "metadata": {},
   "outputs": [
    {
     "name": "stdout",
     "output_type": "stream",
     "text": [
      "Successfully passed inspection!\n"
     ]
    }
   ],
   "source": [
    "voter1 = pd.read_csv('ARWU-samestruct.csv')\n",
    "voter2 = pd.read_csv('QS-restruct.csv')\n",
    "voter3 = pd.read_csv('THE-samestruct.csv')\n",
    "voter4 = pd.read_csv('URAP-samestruct.csv')\n",
    "voter5 = pd.read_csv('USNEWS-samestruct.csv')\n",
    "\n",
    "\n",
    "unique_items = voter1['University Name'].unique()\n",
    "voters = [voter1, voter2, voter3, voter4, voter5]\n",
    "\n",
    "item_mapping = {name: i for i, name in enumerate(unique_items)}\n",
    "\n",
    "for i in range(1, len(voters)):\n",
    "    current_voter = voters[i]\n",
    "\n",
    "    rows = len(current_voter)\n",
    "    if rows != len(current_voter['University Name'].unique()):\n",
    "        print('Warning: duplicate lines exist!')\n",
    "        sys.exit(0)\n",
    "\n",
    "    for _, row in current_voter.iterrows():\n",
    "        item_name = row['University Name']\n",
    "        if item_name not in item_mapping:\n",
    "            print('University name mismatch!')\n",
    "            sys.exit(0)\n",
    "\n",
    "print('Successfully passed inspection!')"
   ]
  },
  {
   "cell_type": "markdown",
   "metadata": {},
   "source": "Create input data for RA"
  },
  {
   "cell_type": "code",
   "execution_count": 17,
   "metadata": {},
   "outputs": [],
   "source": [
    "voter1 = pd.read_csv('ARWU-samestruct.csv')\n",
    "voter2 = pd.read_csv('QS-restruct.csv')\n",
    "voter3 = pd.read_csv('THE-samestruct.csv')\n",
    "voter4 = pd.read_csv('URAP-samestruct.csv')\n",
    "voter5 = pd.read_csv('USNEWS-samestruct.csv')\n",
    "\n",
    "\n",
    "unique_items = voter1['University Name'].unique()\n",
    "voters = [voter1, voter2, voter3, voter4, voter5]\n",
    "\n",
    "item_mapping = {name: i for i, name in enumerate(unique_items)}\n",
    "\n",
    "result = []\n",
    "\n",
    "for i in range(len(voters)):\n",
    "    current_voter = voters[i]\n",
    "\n",
    "    for _, row in current_voter.iterrows():\n",
    "        item_name = row['University Name']\n",
    "        item_rank = row['No']\n",
    "        \n",
    "\n",
    "        result_row = [1, i, item_name, item_rank]\n",
    "        result.append(result_row)\n",
    "\n",
    "\n",
    "with open(r'university-ranking-test.csv', mode='w', newline='') as file:\n",
    "    writer = csv.writer(file)\n",
    "    for row in result:\n",
    "        writer.writerow(row)\n",
    "\n",
    "\n",
    "\n"
   ]
  },
  {
   "metadata": {},
   "cell_type": "markdown",
   "source": "Convert all RA results to Excel format files"
  },
  {
   "cell_type": "code",
   "metadata": {
    "ExecuteTime": {
     "end_time": "2024-11-13T06:50:26.759060Z",
     "start_time": "2024-11-13T06:50:26.496608Z"
    }
   },
   "source": [
    "df = pd.read_csv('QS-restruct.csv')\n",
    "\n",
    "\n",
    "file_path = r\"D:\\LocalGit\\Agg-Benchmarks\\examples\\results\\WUR2022\\result_mork_h.csv\"\n",
    "\n",
    "data = pd.read_csv(file_path, header=None)\n",
    "data.columns = ['Query', 'University Name', 'Rank']\n",
    "\n",
    "result = []\n",
    "for _, row in data.iterrows():\n",
    "    item_name = row['University Name']\n",
    "    item_rank = int(row['Rank'])\n",
    "\n",
    "    filter_row = df[df['University Name'] == item_name].iloc[0] if not df[df['University Name'] == item_name].empty else print(\"Error\")\n",
    "\n",
    "    country = filter_row['Country']\n",
    "    group = filter_row['Group']\n",
    "\n",
    "    result_row = [item_name, item_rank, country, group]\n",
    "    result.append(result_row)\n",
    "\n",
    "save_path = r\"D:\\LocalGit\\Agg-Benchmarks\\examples\\results\\WUR2022\\result_mork_h.xlsx\"\n",
    "\n",
    "# Convert the list to a DataFrame\n",
    "df = pd.DataFrame(result, columns=['University Name', 'No', 'Country', 'Group'])\n",
    "\n",
    "# Save the DataFrame as an Excel file\n",
    "df.to_excel(save_path, index=False)"
   ],
   "outputs": [],
   "execution_count": 6
  }
 ],
 "metadata": {
  "kernelspec": {
   "display_name": "Python 3",
   "language": "python",
   "name": "python3"
  },
  "language_info": {
   "codemirror_mode": {
    "name": "ipython",
    "version": 3
   },
   "file_extension": ".py",
   "mimetype": "text/x-python",
   "name": "python",
   "nbconvert_exporter": "python",
   "pygments_lexer": "ipython3",
   "version": "3.11.4"
  }
 },
 "nbformat": 4,
 "nbformat_minor": 2
}
