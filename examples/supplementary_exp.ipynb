{
 "cells": [
  {
   "cell_type": "code",
   "execution_count": null,
   "id": "initial_id",
   "metadata": {
    "collapsed": true
   },
   "outputs": [],
   "source": [
    "import pandas as pd\n",
    "\n",
    "from src.rapython.evaluation import Evaluation\n",
    "\n",
    "input_file_path = r\"C:\\Users\\2021\\Desktop\\m1m-test-Mork_H.csv\"\n",
    "evaluation = Evaluation()\n",
    "result_data = pd.read_csv(input_file_path, header=None)\n",
    "rel_data = pd.read_csv(\"..\\\\datasets\\\\MovieLens1M\\\\m1m-test-rel.csv\", header=None)\n",
    "r = evaluation.eval_rank(result_data, rel_data, 1)\n",
    "map_ = evaluation.eval_mean_average_precision(result_data, rel_data, 10)\n",
    "print(f\"r @ 1: {r}， map@10: {map_}\")\n"
   ]
  },
  {
   "metadata": {},
   "cell_type": "markdown",
   "source": "run NSCLC",
   "id": "24da30f9d0f279bd"
  },
  {
   "metadata": {
    "ExecuteTime": {
     "end_time": "2024-11-13T06:23:49.613868Z",
     "start_time": "2024-11-13T06:09:42.435287Z"
    }
   },
   "cell_type": "code",
   "source": [
    "from src.rapython.unsupervised import *\n",
    "from src.rapython.evaluation import Evaluation\n",
    "import pandas as pd\n",
    "\n",
    "input_file_path = \"..\\\\datasets\\\\NSCLC\\\\NSCLC-test-4-workers.csv\"\n",
    "\n",
    "print(\"-------------Dataset: NSCLC---------------\")\n",
    "print(\"Running MorK-H....\")\n",
    "output_file_path = \"results\\\\NSCLC\\\\result_mork_h.csv\"\n",
    "mork_heuristic(input_file_path, output_file_path)\n",
    "\n",
    "print(\"Running Borda-score...\")\n",
    "output_file_path = \"results\\\\NSCLC\\\\result_borda_score.csv\"\n",
    "borda_score(input_file_path, output_file_path)\n",
    "\n",
    "print(\"----------------evaluation-------------------\")\n",
    "rel_data = pd.read_csv(\"..\\\\datasets\\\\NSCLC\\\\NSCLC-test-rel-4-workers.csv\", header=None)\n",
    "evaluation = Evaluation()\n",
    "result_data = pd.read_csv(\"results\\\\NSCLC\\\\result_mork_h.csv\", header=None)\n",
    "r400 = evaluation.eval_recall(result_data, rel_data, 400)\n",
    "r800 = evaluation.eval_recall(result_data, rel_data, 800)\n",
    "print(f\"Mork-H:\\n r @ 400: {r400}, r @ 800: {r800}\\n\")\n",
    "result_data = pd.read_csv(\"results\\\\NSCLC\\\\result_borda_score.csv\", header=None)\n",
    "\n",
    "r400 = evaluation.eval_recall(result_data, rel_data, 400)\n",
    "r800 = evaluation.eval_recall(result_data, rel_data, 800)\n",
    "print(f\"Borda-score:\\n r @ 400: {r400}, r @ 800: {r800}\\n\")\n",
    "print(\"------------------------------------------\")\n"
   ],
   "id": "1bb12309413e4253",
   "outputs": [
    {
     "name": "stdout",
     "output_type": "stream",
     "text": [
      "-------------Dataset: NSCLC---------------\n",
      "Running MorK-H....\n",
      "Running Borda-score...\n",
      "----------------evaluation-------------------\n",
      "Mork-H:\n",
      " r @ 400: 0.17391304347826086, r @ 800: 0.3188405797101449\n",
      "\n",
      "Borda-score:\n",
      " r @ 400: 0.08695652173913043, r @ 800: 0.17391304347826086\n",
      "\n",
      "------------------------------------------\n"
     ]
    }
   ],
   "execution_count": 2
  },
  {
   "metadata": {
    "ExecuteTime": {
     "end_time": "2024-11-13T06:28:09.749520Z",
     "start_time": "2024-11-13T06:28:09.032652Z"
    }
   },
   "cell_type": "code",
   "source": [
    "from src.rapython.unsupervised import *\n",
    "\n",
    "input_file_path = \"..\\\\datasets\\\\World University Ranking 2022\\\\university-ranking-test.csv\"\n",
    "\n",
    "print(\"-------------Dataset: WUR 2022---------------\")\n",
    "print(\"Running MorK-H....\")\n",
    "output_file_path = \"results\\\\WUR2022\\\\result_mork_h.csv\"\n",
    "mork_heuristic(input_file_path, output_file_path)\n",
    "\n",
    "print(\"Running Borda-score...\")\n",
    "output_file_path = \"results\\\\WUR2022\\\\result_borda_score.csv\"\n",
    "borda_score(input_file_path, output_file_path)\n",
    "\n",
    "print(\"Running CG..\")\n",
    "output_file_path = \"results\\\\WUR2022\\\\result_cg.csv\"\n",
    "cg(input_file_path, output_file_path)"
   ],
   "id": "fc970747b8b8a732",
   "outputs": [
    {
     "name": "stdout",
     "output_type": "stream",
     "text": [
      "-------------Dataset: WUR 2022---------------\n",
      "Running MorK-H....\n",
      "Running Borda-score...\n",
      "Running CG..\n"
     ]
    }
   ],
   "execution_count": 4
  }
 ],
 "metadata": {
  "kernelspec": {
   "display_name": "Python 3",
   "language": "python",
   "name": "python3"
  },
  "language_info": {
   "codemirror_mode": {
    "name": "ipython",
    "version": 2
   },
   "file_extension": ".py",
   "mimetype": "text/x-python",
   "name": "python",
   "nbconvert_exporter": "python",
   "pygments_lexer": "ipython2",
   "version": "2.7.6"
  }
 },
 "nbformat": 4,
 "nbformat_minor": 5
}
